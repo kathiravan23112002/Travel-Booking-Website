{
  "nbformat": 4,
  "nbformat_minor": 0,
  "metadata": {
    "colab": {
      "provenance": [],
      "authorship_tag": "ABX9TyNgPAHGH8LQg+yoU0Jlj99l",
      "include_colab_link": true
    },
    "kernelspec": {
      "name": "python3",
      "display_name": "Python 3"
    },
    "language_info": {
      "name": "python"
    }
  },
  "cells": [
    {
      "cell_type": "markdown",
      "metadata": {
        "id": "view-in-github",
        "colab_type": "text"
      },
      "source": [
        "<a href=\"https://colab.research.google.com/github/kathiravan23112002/Travel-Booking-Website/blob/main/Autofilled_the_document_using_rag.ipynb\" target=\"_parent\"><img src=\"https://colab.research.google.com/assets/colab-badge.svg\" alt=\"Open In Colab\"/></a>"
      ]
    },
    {
      "cell_type": "code",
      "source": [
        "!pip install PyPDF2 reportlab\n"
      ],
      "metadata": {
        "colab": {
          "base_uri": "https://localhost:8080/"
        },
        "id": "H_lgTsYywyDq",
        "outputId": "c8788704-f8a0-47b2-e679-abfd69e178d5"
      },
      "execution_count": 3,
      "outputs": [
        {
          "output_type": "stream",
          "name": "stdout",
          "text": [
            "Collecting PyPDF2\n",
            "  Downloading pypdf2-3.0.1-py3-none-any.whl.metadata (6.8 kB)\n",
            "Collecting reportlab\n",
            "  Downloading reportlab-4.2.2-py3-none-any.whl.metadata (1.4 kB)\n",
            "Requirement already satisfied: pillow>=9.0.0 in /usr/local/lib/python3.10/dist-packages (from reportlab) (9.4.0)\n",
            "Requirement already satisfied: chardet in /usr/local/lib/python3.10/dist-packages (from reportlab) (5.2.0)\n",
            "Downloading pypdf2-3.0.1-py3-none-any.whl (232 kB)\n",
            "\u001b[2K   \u001b[90m━━━━━━━━━━━━━━━━━━━━━━━━━━━━━━━━━━━━━━━━\u001b[0m \u001b[32m232.6/232.6 kB\u001b[0m \u001b[31m3.9 MB/s\u001b[0m eta \u001b[36m0:00:00\u001b[0m\n",
            "\u001b[?25hDownloading reportlab-4.2.2-py3-none-any.whl (1.9 MB)\n",
            "\u001b[2K   \u001b[90m━━━━━━━━━━━━━━━━━━━━━━━━━━━━━━━━━━━━━━━━\u001b[0m \u001b[32m1.9/1.9 MB\u001b[0m \u001b[31m28.5 MB/s\u001b[0m eta \u001b[36m0:00:00\u001b[0m\n",
            "\u001b[?25hInstalling collected packages: reportlab, PyPDF2\n",
            "Successfully installed PyPDF2-3.0.1 reportlab-4.2.2\n"
          ]
        }
      ]
    },
    {
      "cell_type": "code",
      "source": [
        "import re\n",
        "from PyPDF2 import PdfReader, PdfWriter\n",
        "from reportlab.lib.pagesizes import letter\n",
        "from reportlab.pdfgen import canvas\n",
        "\n",
        "def extract_text_from_pdf(pdf_path):\n",
        "    text = \"\"\n",
        "    with open(pdf_path, \"rb\") as file:\n",
        "        reader = PdfReader(file)\n",
        "        for page in reader.pages:\n",
        "            text += page.extract_text()\n",
        "    return text\n",
        "\n",
        "def find_fields_in_template(template_text):\n",
        "    # Example pattern for identifying fields in the template\n",
        "    # Adjust this pattern based on your template's format\n",
        "    pattern = r'\\[\\[(.*?)\\]\\]'\n",
        "    fields = re.findall(pattern, template_text)\n",
        "    return fields\n",
        "\n",
        "def fill_template_with_data(template_path, output_path, data):\n",
        "    # Create a new PDF with filled data\n",
        "    c = canvas.Canvas(output_path, pagesize=letter)\n",
        "    width, height = letter\n",
        "\n",
        "    # Set up the canvas and fill in the data\n",
        "    for field, value in data.items():\n",
        "        # Example coordinates; adjust these based on your template\n",
        "        x, y = 100, 750 - (list(data.keys()).index(field) * 30)\n",
        "        c.drawString(x, y, f\"{field}: {value}\")\n",
        "\n",
        "    c.save()\n",
        "\n",
        "def main(document_path, template_path, output_path):\n",
        "    # Extract text from the document and template\n",
        "    document_text = extract_text_from_pdf(document_path)\n",
        "    template_text = extract_text_from_pdf(template_path)\n",
        "\n",
        "    # Find fields in the template\n",
        "    fields = find_fields_in_template(template_text)\n",
        "\n",
        "    # Extract relevant data from the document\n",
        "    data = {field: \"Extracted Data\" for field in fields}  # Replace with actual data extraction logic\n",
        "\n",
        "    # Fill the template with extracted data\n",
        "    fill_template_with_data(template_path, output_path, data)\n",
        "\n",
        "# Example paths\n",
        "document_path = \"/content/Document.pdf\"\n",
        "template_path = \"/content/Template.pdf\"\n",
        "output_path = \"/content/Completed_Template.pdf\"\n",
        "\n",
        "# Execute the main function\n",
        "main(document_path, template_path, output_path)\n"
      ],
      "metadata": {
        "id": "tAPBrzLEw17t"
      },
      "execution_count": null,
      "outputs": []
    }
  ]
}